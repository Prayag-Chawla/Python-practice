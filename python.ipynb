{
 "cells": [
  {
   "cell_type": "code",
   "execution_count": 15,
   "metadata": {},
   "outputs": [
    {
     "name": "stderr",
     "output_type": "stream",
     "text": [
      "No valid FFmpeg binary was found. See the --ffmpeg-ffmpeg option.\n",
      "Muxing streams is unsupported! Only a subset of the available streams can be returned!\n"
     ]
    },
    {
     "name": "stdout",
     "output_type": "stream",
     "text": [
      "Downloading video...\n",
      "Video downloaded successfully!\n"
     ]
    }
   ],
   "source": [
    "import streamlink\n",
    "\n",
    "video_url = input(\"Enter the YouTube video URL: \")\n",
    "streams = streamlink.streams(video_url)\n",
    "stream = streams[\"best\"]\n",
    "\n",
    "fd = stream.open()\n",
    "\n",
    "\n",
    "output_path = \"video.mp4\"\n",
    "\n",
    "\n",
    "print(\"Downloading video...\")\n",
    "with open(output_path, \"wb\") as f:\n",
    "    while True:\n",
    "        data = fd.read(1024)\n",
    "        if not data:\n",
    "            break\n",
    "        f.write(data)\n",
    "print(\"Video downloaded successfully!\")\n"
   ]
  }
 ],
 "metadata": {
  "kernelspec": {
   "display_name": "Python 3",
   "language": "python",
   "name": "python3"
  },
  "language_info": {
   "codemirror_mode": {
    "name": "ipython",
    "version": 3
   },
   "file_extension": ".py",
   "mimetype": "text/x-python",
   "name": "python",
   "nbconvert_exporter": "python",
   "pygments_lexer": "ipython3",
   "version": "3.11.0"
  },
  "orig_nbformat": 4
 },
 "nbformat": 4,
 "nbformat_minor": 2
}
