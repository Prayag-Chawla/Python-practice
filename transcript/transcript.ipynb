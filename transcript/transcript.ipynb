{
 "cells": [
  {
   "cell_type": "code",
   "execution_count": 16,
   "metadata": {},
   "outputs": [],
   "source": [
    "import moviepy.editor as mp\n",
    "import speech_recognition as sr\n",
    "import os\n",
    "import ffmpeg"
   ]
  },
  {
   "cell_type": "code",
   "execution_count": 17,
   "metadata": {},
   "outputs": [
    {
     "name": "stdout",
     "output_type": "stream",
     "text": [
      "MoviePy - Writing audio in temp_audio.wav\n"
     ]
    },
    {
     "name": "stderr",
     "output_type": "stream",
     "text": [
      "                                                                     \r"
     ]
    },
    {
     "name": "stdout",
     "output_type": "stream",
     "text": [
      "MoviePy - Done.\n",
      "UC Dwayne Johnson is a better actor than John Cena and it turns out that I have been watching both of them since 2013 in the WWE industry but now both of them are in the Fast and Furious franchise in the movies at 9 Fast and Furious 10 fastest and now you know basically John Cena is Jacob Dorado and Dwayne Johnson is Luke Hobbs and that is what exactly it is both have different genres to the characters on different genres to their house and hence it is going pretty good for both of them and I'm obliged to be seeing them both at the backstage and as well as in the WWE and as well as in the movie together because they both are the legends of Hollywood and let's say WWE right so yeah\n"
     ]
    }
   ],
   "source": [
    "def transcribe_video(video_path):\n",
    "    video = mp.VideoFileClip(video_path)\n",
    "    video.audio.write_audiofile(\"temp_audio.wav\")\n",
    "\n",
    "    recognizer = sr.Recognizer()\n",
    "    with sr.AudioFile(\"temp_audio.wav\") as source:\n",
    "        audio = recognizer.record(source)\n",
    "\n",
    "    transcript = recognizer.recognize_google(audio)\n",
    "\n",
    "    return transcript\n",
    "\n",
    "video_path = \"mee.mp4\"\n",
    "transcript = transcribe_video(video_path)\n",
    "print(transcript)\n"
   ]
  }
 ],
 "metadata": {
  "kernelspec": {
   "display_name": "Python 3",
   "language": "python",
   "name": "python3"
  },
  "language_info": {
   "codemirror_mode": {
    "name": "ipython",
    "version": 3
   },
   "file_extension": ".py",
   "mimetype": "text/x-python",
   "name": "python",
   "nbconvert_exporter": "python",
   "pygments_lexer": "ipython3",
   "version": "3.11.0"
  },
  "orig_nbformat": 4
 },
 "nbformat": 4,
 "nbformat_minor": 2
}
