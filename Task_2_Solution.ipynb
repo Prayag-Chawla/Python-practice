{
 "cells": [
  {
   "cell_type": "markdown",
   "metadata": {},
   "source": [
    "# Task 2\n",
    "\n",
    "Use Iris Dataset for this task"
   ]
  },
  {
   "cell_type": "markdown",
   "metadata": {},
   "source": [
    "### Practice_Problem_1:\n",
    "\n",
    "Problem Statement:\n",
    "Find and print count of each kind of flower (separated by space)?"
   ]
  },
  {
   "cell_type": "code",
   "execution_count": 1,
   "metadata": {},
   "outputs": [
    {
     "name": "stdout",
     "output_type": "stream",
     "text": [
      "['Iris-setosa' 'Iris-versicolor' 'Iris-virginica']\n",
      "49 50 50 "
     ]
    }
   ],
   "source": [
    "import pandas as pd\n",
    "\n",
    "df = pd.read_csv(\"iris.data\")\n",
    "\n",
    "df.columns = ['sepal_length', 'sepal_width', 'petal_length', 'petal_width', 'species']\n",
    "\n",
    "print(df[\"species\"].unique()) \n",
    "\n",
    "count = []\n",
    "c1 = df[df[\"species\"] == \"Iris-setosa\"].count()\n",
    "c2 = df[df[\"species\"] == \"Iris-versicolor\"].count()\n",
    "c3 = df[df[\"species\"] == \"Iris-virginica\"].count()\n",
    "\n",
    "count.append(c1)\n",
    "count.append(c2)\n",
    "count.append(c3)\n",
    "\n",
    "for i in count:\n",
    "    #print(i)\n",
    "    print(i['species'], end = \" \")"
   ]
  },
  {
   "cell_type": "markdown",
   "metadata": {},
   "source": [
    "### Practice_Problem_2:\n",
    "\n",
    "Problem Statement:\n",
    "Find the data of flower “Iris-virginica” type where petal-length > 1.5?"
   ]
  },
  {
   "cell_type": "code",
   "execution_count": 2,
   "metadata": {
    "scrolled": true
   },
   "outputs": [
    {
     "name": "stdout",
     "output_type": "stream",
     "text": [
      "6.3 3.3 6.0 2.5 Iris-virginica\n",
      "5.8 2.7 5.1 1.9 Iris-virginica\n",
      "7.1 3.0 5.9 2.1 Iris-virginica\n",
      "6.3 2.9 5.6 1.8 Iris-virginica\n",
      "6.5 3.0 5.8 2.2 Iris-virginica\n",
      "7.6 3.0 6.6 2.1 Iris-virginica\n",
      "4.9 2.5 4.5 1.7 Iris-virginica\n",
      "7.3 2.9 6.3 1.8 Iris-virginica\n",
      "6.7 2.5 5.8 1.8 Iris-virginica\n",
      "7.2 3.6 6.1 2.5 Iris-virginica\n",
      "6.5 3.2 5.1 2.0 Iris-virginica\n",
      "6.4 2.7 5.3 1.9 Iris-virginica\n",
      "6.8 3.0 5.5 2.1 Iris-virginica\n",
      "5.7 2.5 5.0 2.0 Iris-virginica\n",
      "5.8 2.8 5.1 2.4 Iris-virginica\n",
      "6.4 3.2 5.3 2.3 Iris-virginica\n",
      "6.5 3.0 5.5 1.8 Iris-virginica\n",
      "7.7 3.8 6.7 2.2 Iris-virginica\n",
      "7.7 2.6 6.9 2.3 Iris-virginica\n",
      "6.0 2.2 5.0 1.5 Iris-virginica\n",
      "6.9 3.2 5.7 2.3 Iris-virginica\n",
      "5.6 2.8 4.9 2.0 Iris-virginica\n",
      "7.7 2.8 6.7 2.0 Iris-virginica\n",
      "6.3 2.7 4.9 1.8 Iris-virginica\n",
      "6.7 3.3 5.7 2.1 Iris-virginica\n",
      "7.2 3.2 6.0 1.8 Iris-virginica\n",
      "6.2 2.8 4.8 1.8 Iris-virginica\n",
      "6.1 3.0 4.9 1.8 Iris-virginica\n",
      "6.4 2.8 5.6 2.1 Iris-virginica\n",
      "7.2 3.0 5.8 1.6 Iris-virginica\n",
      "7.4 2.8 6.1 1.9 Iris-virginica\n",
      "7.9 3.8 6.4 2.0 Iris-virginica\n",
      "6.4 2.8 5.6 2.2 Iris-virginica\n",
      "6.3 2.8 5.1 1.5 Iris-virginica\n",
      "6.1 2.6 5.6 1.4 Iris-virginica\n",
      "7.7 3.0 6.1 2.3 Iris-virginica\n",
      "6.3 3.4 5.6 2.4 Iris-virginica\n",
      "6.4 3.1 5.5 1.8 Iris-virginica\n",
      "6.0 3.0 4.8 1.8 Iris-virginica\n",
      "6.9 3.1 5.4 2.1 Iris-virginica\n",
      "6.7 3.1 5.6 2.4 Iris-virginica\n",
      "6.9 3.1 5.1 2.3 Iris-virginica\n",
      "5.8 2.7 5.1 1.9 Iris-virginica\n",
      "6.8 3.2 5.9 2.3 Iris-virginica\n",
      "6.7 3.3 5.7 2.5 Iris-virginica\n",
      "6.7 3.0 5.2 2.3 Iris-virginica\n",
      "6.3 2.5 5.0 1.9 Iris-virginica\n",
      "6.5 3.0 5.2 2.0 Iris-virginica\n",
      "6.2 3.4 5.4 2.3 Iris-virginica\n",
      "5.9 3.0 5.1 1.8 Iris-virginica\n"
     ]
    }
   ],
   "source": [
    "a = df[df.species == 'Iris-virginica']\n",
    "a = a[a.petal_length > 1.5]\n",
    "\n",
    "for ind in a.index: \n",
    "     print(df['sepal_length'][ind], df['sepal_width'][ind], df['petal_length'][ind], df['petal_width'][ind], df['species'][ind])\n",
    "    \n"
   ]
  },
  {
   "cell_type": "markdown",
   "metadata": {},
   "source": [
    "### Practice_Problem_3:\n",
    "\n",
    "Problem Statement\n",
    "Find and print the minimum, maximum and average value of the feature for each kind of flower ?\n",
    "\n",
    "Print the value with two decimal places.\n",
    "Note: Order for flower is Iris-setosa, Iris-versicolor and Iris-virginica."
   ]
  },
  {
   "cell_type": "code",
   "execution_count": 3,
   "metadata": {},
   "outputs": [
    {
     "name": "stdout",
     "output_type": "stream",
     "text": [
      "4.30 2.30 1.00 0.10 Iris-setosa\n",
      "5.80 4.40 1.90 0.60 Iris-setosa\n",
      "5.01 3.43 1.46 0.25 Iris-setosa\n",
      "4.90 2.00 3.00 1.00 Iris-versicolor\n",
      "7.00 3.40 5.10 1.80 Iris-versicolor\n",
      "5.94 2.77 4.26 1.33 Iris-versicolor\n",
      "4.90 2.20 4.50 1.40 Iris-virginica\n",
      "7.90 3.80 6.90 2.50 Iris-virginica\n",
      "6.59 2.97 5.55 2.03 Iris-virginica\n"
     ]
    }
   ],
   "source": [
    "import pandas as pd\n",
    "\n",
    "df = pd.read_csv(\"https://gist.githubusercontent.com/netj/8836201/raw/6f9306ad21398ea43cba4f7d537619d0e07d5ae3/iris.csv\")\n",
    "\n",
    "df.columns = ['sepal_length', 'sepal_width', 'petal_length', 'petal_width', 'species']\n",
    "\n",
    "type_list = [\"Setosa\", \"Versicolor\", \"Virginica\"]\n",
    "column_list = df.columns[:4]\n",
    "    \n",
    "for flower in type_list:\n",
    "    type1 = df[df.species == flower]\n",
    "    \n",
    "    \n",
    "       \n",
    "    print(\"{:.2f}\".format(type1['sepal_length'].min()), end = \" \")\n",
    "    print(\"{:.2f}\".format(type1['sepal_width'].min()), end = \" \")\n",
    "    print(\"{:.2f}\".format(type1['petal_length'].min()), end = \" \")\n",
    "    print(\"{:.2f}\".format(type1['petal_width'].min()), end = \" \")\n",
    "    \n",
    "    if flower == \"Setosa\":\n",
    "        print(\"Iris-setosa\")\n",
    "    elif flower == \"Versicolor\":\n",
    "        print(\"Iris-versicolor\")\n",
    "    else:\n",
    "        print(\"Iris-virginica\")\n",
    "        \n",
    "    print(\"{:.2f}\".format(type1['sepal_length'].max()), end = \" \")\n",
    "    print(\"{:.2f}\".format(type1['sepal_width'].max()), end = \" \")\n",
    "    print(\"{:.2f}\".format(type1['petal_length'].max()), end = \" \")\n",
    "    print(\"{:.2f}\".format(type1['petal_width'].max()), end = \" \")\n",
    "    \n",
    "    if flower == \"Setosa\":\n",
    "        print(\"Iris-setosa\")\n",
    "    elif flower == \"Versicolor\":\n",
    "        print(\"Iris-versicolor\")\n",
    "    else:\n",
    "        print(\"Iris-virginica\")\n",
    "    \n",
    "    \n",
    "    print(\"{:.2f}\".format(type1['sepal_length'].mean()), end = \" \")\n",
    "    print(\"{:.2f}\".format(type1['sepal_width'].mean()), end = \" \")\n",
    "    print(\"{:.2f}\".format(type1['petal_length'].mean()), end = \" \")\n",
    "    print(\"{:.2f}\".format(type1['petal_width'].mean()), end = \" \")\n",
    "    \n",
    "    if flower == \"Setosa\":\n",
    "        print(\"Iris-setosa\")\n",
    "    elif flower == \"Versicolor\":\n",
    "        print(\"Iris-versicolor\")\n",
    "    else:\n",
    "        print(\"Iris-virginica\")\n",
    "    \n"
   ]
  }
 ],
 "metadata": {
  "kernelspec": {
   "display_name": "Python 3.10.2 64-bit",
   "language": "python",
   "name": "python3"
  },
  "language_info": {
   "codemirror_mode": {
    "name": "ipython",
    "version": 3
   },
   "file_extension": ".py",
   "mimetype": "text/x-python",
   "name": "python",
   "nbconvert_exporter": "python",
   "pygments_lexer": "ipython3",
   "version": "3.10.2"
  },
  "vscode": {
   "interpreter": {
    "hash": "369f2c481f4da34e4445cda3fffd2e751bd1c4d706f27375911949ba6bb62e1c"
   }
  }
 },
 "nbformat": 4,
 "nbformat_minor": 4
}
