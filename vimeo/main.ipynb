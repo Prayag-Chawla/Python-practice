{
 "cells": [
  {
   "cell_type": "code",
   "execution_count": 17,
   "metadata": {},
   "outputs": [
    {
     "name": "stdout",
     "output_type": "stream",
     "text": [
      "[vimeo] 88238381: Downloading webpage\n"
     ]
    },
    {
     "name": "stdout",
     "output_type": "stream",
     "text": [
      "[vimeo] 88238381: Downloading JSON metadata\n",
      "[vimeo] 88238381: Downloading JSON metadata\n",
      "[vimeo] 88238381: Downloading akfire_interconnect_quic m3u8 information\n",
      "[vimeo] 88238381: Downloading akfire_interconnect_quic m3u8 information\n",
      "[vimeo] 88238381: Downloading fastly_skyfire m3u8 information\n",
      "[vimeo] 88238381: Downloading fastly_skyfire m3u8 information\n",
      "[vimeo] 88238381: Downloading google_mediacdn m3u8 information\n",
      "[vimeo] 88238381: Downloading google_mediacdn m3u8 information\n",
      "[vimeo] 88238381: Downloading akfire_interconnect_quic MPD information\n",
      "[vimeo] 88238381: Downloading akfire_interconnect_quic MPD information\n",
      "[vimeo] 88238381: Downloading fastly_skyfire MPD information\n",
      "[vimeo] 88238381: Downloading fastly_skyfire MPD information\n",
      "[vimeo] 88238381: Downloading google_mediacdn MPD information\n",
      "[vimeo] 88238381: Downloading google_mediacdn MPD information\n",
      "[download] Destination: output\\UHD FOOD.mp4\n",
      "[download] 100% of 37.86MiB in 00:14                          \n"
     ]
    }
   ],
   "source": [
    "import youtube_dl\n",
    "\n",
    "def download_vimeo_video(url, output_path):\n",
    "    ydl_opts = {\n",
    "        'outtmpl': output_path + '/%(title)s.%(ext)s',\n",
    "    }\n",
    "    with youtube_dl.YoutubeDL(ydl_opts) as ydl:\n",
    "        ydl.download([url])\n",
    "\n",
    "video_url = 'https://vimeo.com/88238381'  \n",
    "output_directory = 'output'  \n",
    "\n",
    "download_vimeo_video(video_url, output_directory)\n"
   ]
  }
 ],
 "metadata": {
  "kernelspec": {
   "display_name": "Python 3",
   "language": "python",
   "name": "python3"
  },
  "language_info": {
   "codemirror_mode": {
    "name": "ipython",
    "version": 3
   },
   "file_extension": ".py",
   "mimetype": "text/x-python",
   "name": "python",
   "nbconvert_exporter": "python",
   "pygments_lexer": "ipython3",
   "version": "3.11.0"
  },
  "orig_nbformat": 4
 },
 "nbformat": 4,
 "nbformat_minor": 2
}
